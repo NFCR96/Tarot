{
  "nbformat": 4,
  "nbformat_minor": 0,
  "metadata": {
    "colab": {
      "provenance": [],
      "collapsed_sections": []
    },
    "kernelspec": {
      "name": "python3",
      "display_name": "Python 3"
    },
    "language_info": {
      "name": "python"
    }
  },
  "cells": [
    {
      "cell_type": "code",
      "execution_count": 1,
      "execution_count": null,
      "metadata": {
        "colab": {
          "base_uri": "https://localhost:8080/"
@@ -125,6 +125,22 @@
        "!pip install pyngrok==4.1.1"
      ]
    },
    {
      "cell_type": "markdown",
      "source": [],
      "metadata": {
        "id": "boLXuKDMj3-F"
      }
    },
    {
      "cell_type": "code",
      "source": [],
      "metadata": {
        "id": "cotI6uwWj5_M"
      },
      "execution_count": null,
      "outputs": []
    },
    {
      "cell_type": "code",
      "source": [
@@ -140,7 +156,7 @@
        "id": "LHjnNtq69YUk",
        "outputId": "bef6839e-940e-446e-ac6b-16de9c2d414e"
      },
      "execution_count": 2,
      "execution_count": null,
      "outputs": [
        {
          "output_type": "stream",
@@ -175,7 +191,7 @@
        "id": "BcDlZLTW9j_P",
        "outputId": "8bb304c5-b453-4448-9e4a-ca982c94ae40"
      },
      "execution_count": 3,
      "execution_count": null,
      "outputs": [
        {
          "output_type": "stream",
@@ -201,7 +217,7 @@
        "id": "mzhCgxVe_P4c",
        "outputId": "afd01aa0-e081-47f3-bff8-dfc5abe6f2a4"
      },
      "execution_count": 4,
      "execution_count": null,
      "outputs": [
        {
          "output_type": "stream",
@@ -419,7 +435,7 @@
        "id": "Otz-zuMKeVNa",
        "outputId": "b5a9b691-e173-4ab2-81da-130422b2ea8b"
      },
      "execution_count": 5,
      "execution_count": null,
      "outputs": [
        {
          "output_type": "stream",
@@ -443,7 +459,7 @@
        "id": "GHTMXgHZjdvY",
        "outputId": "b8567fd0-e825-4371-9362-450fecf2066d"
      },
      "execution_count": 6,
      "execution_count": null,
      "outputs": [
        {
          "output_type": "stream",
@@ -478,7 +494,7 @@
        "id": "KTwQw_PsjhBL",
        "outputId": "3953dd7e-83af-44de-c9d6-da7410428f94"
      },
      "execution_count": 7,
      "execution_count": null,
      "outputs": [
        {
          "output_type": "stream",
@@ -501,7 +517,7 @@
        "id": "Cjv7DYkdj6w4",
        "outputId": "00aee5e5-71c7-4972-d729-e0fbf8acc972"
      },
      "execution_count": 8,
      "execution_count": null,
      "outputs": [
        {
          "output_type": "stream",
@@ -557,18 +573,19 @@
      "metadata": {
        "id": "XR06ICvZj7ze"
      },
      "execution_count": 9,
      "execution_count": null,
      "outputs": []
    },
    {
      "cell_type": "code",
      "source": [
        "# Run app on the background\n",
        "!streamlit run tarot_reading_app.py&>/dev/null&"
      ],
      "metadata": {
        "id": "eevrAc2ekZEG"
      },
      "execution_count": 18,
      "execution_count": null,
      "outputs": []
    },
    {
@@ -583,7 +600,7 @@
        "id": "MtEhIl64k9bi",
        "outputId": "f9d30bec-6084-4be9-fc83-07a21df4c94a"
      },
      "execution_count": 11,
      "execution_count": null,
      "outputs": [
        {
          "output_type": "stream",
@@ -598,44 +615,16 @@
    {
      "cell_type": "code",
      "source": [
        "public_url = ngrok.connect(port='8501')"
        "# Create a public url for the developer to run the app at the web locally\n",
        "public_url = ngrok.connect(port='8501')\n",
        "public_url"
      ],
      "metadata": {
        "id": "FZOa-0kXkMqB"
      },
      "execution_count": 19,
      "execution_count": null,
      "outputs": []
    },
    {
      "cell_type": "code",
      "source": [
        "public_url"
      ],
      "metadata": {
        "colab": {
          "base_uri": "https://localhost:8080/",
          "height": 35
        },
        "id": "T0EA6XZulIvl",
        "outputId": "12c46ef5-2149-47f5-ccb0-29b311c08d25"
      },
      "execution_count": 20,
      "outputs": [
        {
          "output_type": "execute_result",
          "data": {
            "text/plain": [
              "'http://6ce1-34-80-79-254.ngrok.io'"
            ],
            "application/vnd.google.colaboratory.intrinsic+json": {
              "type": "string"
            }
          },
          "metadata": {},
          "execution_count": 20
        }
      ]
    },
    {
      "cell_type": "markdown",
      "source": [
@@ -657,7 +646,7 @@
        "id": "qkyW1ksJ6k-T",
        "outputId": "e53a98bd-0fec-4c9a-ac20-7091192b92d9"
      },
      "execution_count": 21,
      "execution_count": null,
      "outputs": [
        {
          "output_type": "stream",
@@ -688,7 +677,7 @@
        "id": "1wBrQ2Fm6tfm",
        "outputId": "c78d814b-149a-4df4-ef3e-e5917f6a8a52"
      },
      "execution_count": 22,
      "execution_count": null,
      "outputs": [
        {
          "output_type": "stream",
          "name": "stdout",
          "text": [
            "INFO: Successfully saved requirements file in ./requirements.txt\n"
          ]
        }
      ]
    }
  ]

